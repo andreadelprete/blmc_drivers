{
 "cells": [
  {
   "cell_type": "code",
   "execution_count": null,
   "metadata": {},
   "outputs": [],
   "source": [
    "# Copyright 2018, Max Planck Society. All rights reserved.\n",
    "\n",
    "import matplotlib\n",
    "import matplotlib.pyplot as plt\n",
    "import numpy as np\n",
    "%matplotlib inline \n",
    "\n",
    "from numpy import genfromtxt\n",
    "np.set_printoptions(precision=2, suppress=True, linewidth=140)\n",
    "\n",
    "my_data = genfromtxt('./blmc_can_sine_demo_02.csv', delimiter=',')"
   ]
  },
  {
   "cell_type": "code",
   "execution_count": null,
   "metadata": {},
   "outputs": [],
   "source": [
    "print my_data.shape\n",
    "\n",
    "# IDX_TIME_MS = 0\n",
    "# IDX_COUNTER = 1\n",
    "# IDX_SAMPLE_COUNTER = 2\n",
    "\n",
    "fig, axes = plt.subplots(nrows=4, ncols=1, figsize=(8, 10), dpi=80)\n",
    "\n",
    "window = slice(10000, 110000)\n",
    "\n",
    "t = my_data[window][:, 0]\n",
    "\n",
    "axes[0].plot(t, my_data[window, 2]) #\n",
    "# axes[1].plot(t, my_data[window, 3]) # fo_vel\n",
    "axes[1].plot(t, my_data[window, 7]) # iq\n",
    "# axes[2].plot(my_data[:, 8])\n",
    "\n",
    "for ax in axes:\n",
    "    ax.grid(True)\n",
    "    if ax != axes[3]:\n",
    "        ax.set_xticklabels([])\n",
    "\n",
    "\n",
    "N = 10000\n",
    "y = np.convolve(my_data[window, 7], np.ones((N,))/N, mode='valid')\n",
    "p = axes[1].plot(t[N/2:y.shape[0] + N/2], y)\n",
    "axes[2].plot(t[N/2:y.shape[0] + N/2], y, color=p[0].get_color())\n",
    "\n",
    "heat = np.array([\n",
    "    60, 40,\n",
    "    90, 45,\n",
    "    125, 50,\n",
    "    150, 55,\n",
    "    187, 60,\n",
    "    220, 65,\n",
    "    250, 70,\n",
    "    281, 75\n",
    "]).reshape(-1, 2)\n",
    "\n",
    "axes[3].plot(heat[:, 0], heat[:, 1])\n",
    "\n",
    "titles = ['Position', 'Current', 'Averaged current (over ~2.5 sec)', 'Motor temperature']\n",
    "ylabels = ['Height [m]', 'I [A]', 'I [A]', 'T [$^\\circ$C]']\n",
    "\n",
    "for i, ax in enumerate(axes):\n",
    "    ax.set_title(titles[i])\n",
    "    ax.set_ylabel(ylabels[i])\n",
    "    ax.set_xlim([50, 250])\n",
    "    \n",
    "axes[3].set_xlabel('t [sec]')\n",
    "\n",
    "plt.tight_layout()\n",
    "plt.savefig('blmc_temperature.pdf')\n",
    "plt.show()"
   ]
  },
  {
   "cell_type": "code",
   "execution_count": null,
   "metadata": {},
   "outputs": [],
   "source": []
  }
 ],
 "metadata": {
  "kernelspec": {
   "display_name": "Python 2",
   "language": "python",
   "name": "python2"
  },
  "language_info": {
   "codemirror_mode": {
    "name": "ipython",
    "version": 2
   },
   "file_extension": ".py",
   "mimetype": "text/x-python",
   "name": "python",
   "nbconvert_exporter": "python",
   "pygments_lexer": "ipython2",
   "version": "2.7.14"
  }
 },
 "nbformat": 4,
 "nbformat_minor": 2
}
